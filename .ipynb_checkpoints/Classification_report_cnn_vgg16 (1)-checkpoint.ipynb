{
 "cells": [
  {
   "cell_type": "code",
   "execution_count": 9,
   "id": "670f1429",
   "metadata": {},
   "outputs": [],
   "source": [
    "import cv2\n",
    "import os\n",
    "from keras.models import load_model\n",
    "import numpy as np\n",
    "import time\n",
    "import cv2\n",
    "from sklearn.metrics import accuracy_score,classification_report,confusion_matrix"
   ]
  },
  {
   "cell_type": "code",
   "execution_count": 6,
   "id": "a9fdca56",
   "metadata": {},
   "outputs": [
    {
     "name": "stdout",
     "output_type": "stream",
     "text": [
      "****** report on test data Basic CNN********************************\n",
      "0.944954128440367\n",
      "[[104   5]\n",
      " [  7 102]]\n",
      "              precision    recall  f1-score   support\n",
      "\n",
      "      Closed       0.94      0.95      0.95       109\n",
      "        Open       0.95      0.94      0.94       109\n",
      "\n",
      "    accuracy                           0.94       218\n",
      "   macro avg       0.95      0.94      0.94       218\n",
      "weighted avg       0.95      0.94      0.94       218\n",
      "\n"
     ]
    }
   ],
   "source": [
    "actual = []\n",
    "predicted = []\n",
    "basic_cnn_model = load_model('cnn_keras_drowsiness.h5')\n",
    "for dirname, _, filenames in os.walk('dataset/dataset_eye/test'):\n",
    "    for filename in filenames:\n",
    "        jpg_path = os.path.join(dirname, filename)\n",
    "        emotion = jpg_path.split(\"\\\\\")[-2]\n",
    "        actual.append(emotion)\n",
    "        eye_capture = cv2.imread(jpg_path)\n",
    "        eye = cv2.cvtColor(eye_capture,cv2.COLOR_BGR2GRAY)\n",
    "        eye_capture = cv2.resize(eye,(256,256))\n",
    "        eye_capture= eye_capture/255\n",
    "        eye_capture= eye_capture.reshape(256,256,-1)\n",
    "        eye_capture = np.expand_dims(eye_capture,axis=0)\n",
    "        pred = basic_cnn_model.predict(eye_capture)\n",
    "        class_labels=['Closed','Open']\n",
    "        pred_label = class_labels[pred.argmax()]\n",
    "        predicted.append(pred_label)\n",
    "print(\"****** report on test data Basic CNN********************************\")\n",
    "print(accuracy_score(actual,predicted))\n",
    "print(confusion_matrix(actual,predicted))\n",
    "print(classification_report(actual,predicted))"
   ]
  },
  {
   "cell_type": "code",
   "execution_count": null,
   "id": "ec855fef",
   "metadata": {},
   "outputs": [],
   "source": [
    "from keras.preprocessing import image\n",
    "from sklearn.metrics import accuracy_score,classification_report,confusion_matrix\n",
    "import numpy as np"
   ]
  },
  {
   "cell_type": "code",
   "execution_count": 11,
   "id": "66f0f05c",
   "metadata": {},
   "outputs": [
    {
     "name": "stdout",
     "output_type": "stream",
     "text": [
      "****** report on test data VGG 16 CNN********************************\n",
      "0.8761467889908257\n",
      "[[ 82  27]\n",
      " [  0 109]]\n",
      "              precision    recall  f1-score   support\n",
      "\n",
      "      Closed       1.00      0.75      0.86       109\n",
      "        Open       0.80      1.00      0.89       109\n",
      "\n",
      "    accuracy                           0.88       218\n",
      "   macro avg       0.90      0.88      0.87       218\n",
      "weighted avg       0.90      0.88      0.87       218\n",
      "\n"
     ]
    }
   ],
   "source": [
    "\n",
    "import cv2\n",
    "import os\n",
    "from keras.models import load_model\n",
    "import numpy as np\n",
    "import time\n",
    "import cv2\n",
    "from sklearn.metrics import accuracy_score,classification_report,confusion_matrix\n",
    "actual = []\n",
    "predicted = []\n",
    "basic_cnn_model = load_model('C:/Users/Anu/Desktop/Group_9_final/Group_9/Group_9/keras_vgg16_drowsiness.h5')\n",
    "for dirname, _, filenames in os.walk('C:/Users/Anu/Desktop/Group_9_final/Group_9/Group_9/dataset/dataset_eye/test'):\n",
    "    for filename in filenames:\n",
    "        jpg_path = os.path.join(dirname, filename)\n",
    "#         print(jpg_path)\n",
    "        emotion = jpg_path.split(\"\\\\\")[-2]\n",
    "#         print(emotion)\n",
    "        actual.append(emotion)\n",
    "        eye_capture = cv2.imread(jpg_path)\n",
    "#         eye = cv2.cvtColor(eye_capture,cv2.COLOR_BGR2GRAY)\n",
    "        eye_capture = cv2.resize(eye_capture,(224,224))\n",
    "#         eye_capture= eye_capture/255\n",
    "        eye_capture= eye_capture.reshape(224,224,-1)\n",
    "        eye_capture = np.expand_dims(eye_capture,axis=0)\n",
    "        pred = basic_cnn_model.predict(eye_capture)\n",
    "#        print(\"*******************************************************************************\")\n",
    "#        print(pred)\n",
    "        class_labels=['Closed','Open']\n",
    "        pred_label = class_labels[pred.argmax()]\n",
    "#         print(pred_label)\n",
    "        predicted.append(pred_label)\n",
    "print(\"****** report on test data VGG 16 CNN********************************\")\n",
    "print(accuracy_score(actual,predicted))\n",
    "print(confusion_matrix(actual,predicted))\n",
    "print(classification_report(actual,predicted))"
   ]
  },
  {
   "cell_type": "code",
   "execution_count": null,
   "id": "07e5e53b",
   "metadata": {},
   "outputs": [],
   "source": []
  }
 ],
 "metadata": {
  "kernelspec": {
   "display_name": "Python 3",
   "language": "python",
   "name": "python3"
  },
  "language_info": {
   "codemirror_mode": {
    "name": "ipython",
    "version": 3
   },
   "file_extension": ".py",
   "mimetype": "text/x-python",
   "name": "python",
   "nbconvert_exporter": "python",
   "pygments_lexer": "ipython3",
   "version": "3.8.8"
  }
 },
 "nbformat": 4,
 "nbformat_minor": 5
}
