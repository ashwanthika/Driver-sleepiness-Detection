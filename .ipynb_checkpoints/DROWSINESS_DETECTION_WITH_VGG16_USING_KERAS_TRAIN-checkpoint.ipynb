{
 "cells": [
  {
   "cell_type": "markdown",
   "metadata": {
    "id": "W9WINE0TSf3n"
   },
   "source": [
    "# COMPARITIVE STUDY FOR DRIVER'S DROWSINESS DETECTION "
   ]
  },
  {
   "cell_type": "markdown",
   "metadata": {
    "id": "DEddmhwgmTzN"
   },
   "source": [
    "DROWSINESS_DETECTION_WITH_VGG16_USING_KERAS_TRAIN"
   ]
  },
  {
   "cell_type": "markdown",
   "metadata": {
    "id": "BwANrqdFmTzO"
   },
   "source": [
    "![DrowsyDrivingIllo-small.png](attachment:DrowsyDrivingIllo-small.png)"
   ]
  },
  {
   "cell_type": "markdown",
   "metadata": {
    "id": "IOtH3Hl1Sf4H"
   },
   "source": [
    "### Aim:\n",
    "Our project aims at providing a solution for sleepness dtection while driver is on the wheel. As we know, sleeping while driving is very dangerous not only for the driver, but also for others. Neumerous accident cases have been reported due to the driver falling asleep while driving for maybe even a second. "
   ]
  },
  {
   "cell_type": "markdown",
   "metadata": {
    "id": "2gk_UlMtSf4K"
   },
   "source": [
    "### Project flow:\n",
    "    We have implemented our project using:\n",
    "        1. CNN model using np array's. \n",
    "        2. CNN model using keras. \n",
    "        3. VGG 16 model using keras. \n",
    "    Our project contains 3 ipynb files: \n",
    "        1. CNN file using np array's from scratch.\n",
    "        2. CNN model using keras\n",
    "            2a. CNN code for training data\n",
    "            2b. CNN code for the testing data \n",
    "        3.  VGG 16 model \n",
    "            3a. VGG16 code code for training data\n",
    "            3b. VGG16 code code for testing data"
   ]
  },
  {
   "cell_type": "markdown",
   "metadata": {
    "id": "A-VqC1G9Sf4M"
   },
   "source": [
    "### This file contains the code that will help us to TRAIN our model using VGG16 "
   ]
  },
  {
   "cell_type": "markdown",
   "metadata": {
    "id": "hGmbbNgtSf4O"
   },
   "source": [
    "### Importing pacakges"
   ]
  },
  {
   "cell_type": "code",
   "execution_count": 1,
   "metadata": {
    "id": "steXzsg5zwUK"
   },
   "outputs": [],
   "source": [
    "import os #helps in providing functions to import with the oeprating system\n",
    "from keras.layers import Input, Lambda, Dense, Flatten\n",
    "from keras.models import Model\n",
    "from keras.applications.vgg16 import VGG16\n",
    "from keras.applications.vgg16 import preprocess_input\n",
    "from keras.preprocessing import image\n",
    "from keras.preprocessing.image import ImageDataGenerator\n",
    "from keras.models import Sequential\n",
    "import numpy as np #used to perform opertaions on arrays \n",
    "from glob import glob\n",
    "import matplotlib.pyplot as plt #helps in creating vizualizations in python\n",
    "import tensorflow as tf\n",
    "from keras.models import load_model\n",
    "import matplotlib as  plot"
   ]
  },
  {
   "cell_type": "code",
   "execution_count": 2,
   "metadata": {
    "colab": {
     "base_uri": "https://localhost:8080/"
    },
    "id": "P09Jdhai5TXv",
    "outputId": "26402d4c-ee90-4d96-8055-343ac001ba83"
   },
   "outputs": [
    {
     "name": "stdout",
     "output_type": "stream",
     "text": [
      "Mounted at /content/gdrive\n"
     ]
    }
   ],
   "source": [
    "#  Mounting to google drive\n",
    "from google.colab import drive\n",
    "drive.mount('/content/gdrive')"
   ]
  },
  {
   "cell_type": "markdown",
   "metadata": {
    "id": "R8LJJIOpSf4k"
   },
   "source": [
    "### Preprocessing the data"
   ]
  },
  {
   "cell_type": "code",
   "execution_count": 3,
   "metadata": {
    "id": "ZyQRR9EJ2Ck7"
   },
   "outputs": [],
   "source": [
    "# re-size all the images to 224 x 224 \n",
    "Img_size = [224, 224]"
   ]
  },
  {
   "cell_type": "code",
   "execution_count": 4,
   "metadata": {
    "id": "Mg8S5dcV2ZUH"
   },
   "outputs": [],
   "source": [
    "#trn_data = '/content/gdrive/MyDrive/Group_9/dataset/dataset_eye/test' #location where we have to get the train data from\n",
    "#vld_data = '/content/gdrive/MyDrive/Group_9/dataset/dataset_eye/train' #location where we have to get the test data from"
   ]
  },
  {
   "cell_type": "code",
   "execution_count": 5,
   "metadata": {
    "id": "DebMczRySf4q"
   },
   "outputs": [],
   "source": [
    "# Preprocessin the images\n",
    "from keras.preprocessing.image import ImageDataGenerator\n",
    "\n",
    "train_split = ImageDataGenerator(rescale = 1./255,\n",
    "                                   shear_range = 0.2,\n",
    "                                   zoom_range = 0.2,\n",
    "                                   horizontal_flip = True) #Taking the train dataset, preprocessing it by, rescaling, zooming and flipping the data.\n",
    "\n",
    "tst_split = ImageDataGenerator(rescale = 1./255)  #Taking the test dataset and preprocessing it.\n",
    "\n"
   ]
  },
  {
   "cell_type": "code",
   "execution_count": 6,
   "metadata": {
    "colab": {
     "base_uri": "https://localhost:8080/"
    },
    "id": "GBJBNQ8fSf4r",
    "outputId": "23d0e9de-c569-4763-ddc5-140fe68cddcc"
   },
   "outputs": [
    {
     "name": "stdout",
     "output_type": "stream",
     "text": [
      "Found 1234 images belonging to 2 classes.\n",
      "Found 218 images belonging to 2 classes.\n"
     ]
    }
   ],
   "source": [
    "trn_data = train_split.flow_from_directory('/content/gdrive/MyDrive/Group_9/dataset/dataset_eye/train',\n",
    "                                                 target_size = (224, 224),\n",
    "                                                 batch_size = 32,\n",
    "                                                 class_mode = 'categorical') #splitting the train data\n",
    "\n",
    "tst_data = tst_split.flow_from_directory('/content/gdrive/MyDrive/Group_9/dataset/dataset_eye/test',\n",
    "                                            target_size = (224, 224),\n",
    "                                            batch_size = 32,\n",
    "                                            class_mode = 'categorical') #splitting the test data"
   ]
  },
  {
   "cell_type": "markdown",
   "metadata": {
    "id": "rnxBoXZSSf4w"
   },
   "source": [
    "### Model implementation"
   ]
  },
  {
   "cell_type": "code",
   "execution_count": 7,
   "metadata": {
    "colab": {
     "base_uri": "https://localhost:8080/"
    },
    "id": "fsGUN7Ef2oXF",
    "outputId": "7cefcd51-b8b9-4466-fc47-3a2e4a80fbe8"
   },
   "outputs": [
    {
     "name": "stdout",
     "output_type": "stream",
     "text": [
      "Downloading data from https://storage.googleapis.com/tensorflow/keras-applications/vgg16/vgg16_weights_tf_dim_ordering_tf_kernels_notop.h5\n",
      "58892288/58889256 [==============================] - 0s 0us/step\n",
      "58900480/58889256 [==============================] - 0s 0us/step\n"
     ]
    }
   ],
   "source": [
    "#Implementing vgg model\n",
    "vgg_model = VGG16(input_shape=Img_size + [3], weights='imagenet', include_top=False)\n",
    "\n",
    "# don't train existing weights\n",
    "for prep_layer in vgg_model.layers:\n",
    "  prep_layer.trainable = False\n",
    "  \n"
   ]
  },
  {
   "cell_type": "code",
   "execution_count": 8,
   "metadata": {
    "colab": {
     "base_uri": "https://localhost:8080/"
    },
    "id": "jzjRwuNi2rme",
    "outputId": "69ba9a84-8eb7-4d72-e243-3101624fe088"
   },
   "outputs": [
    {
     "name": "stdout",
     "output_type": "stream",
     "text": [
      "Number of folders,\n",
      " ['/content/gdrive/MyDrive/Group_9/dataset/dataset_eye/train/Open', '/content/gdrive/MyDrive/Group_9/dataset/dataset_eye/train/Closed']\n"
     ]
    }
   ],
   "source": [
    "#getting the number of class labels and their location\n",
    "number_of_items = glob('/content/gdrive/MyDrive/Group_9/dataset/dataset_eye/train/*')\n",
    "print(\"Number of folders,\\n\",number_of_items)"
   ]
  },
  {
   "cell_type": "code",
   "execution_count": 9,
   "metadata": {
    "id": "KZ0LLv2a2vB6"
   },
   "outputs": [],
   "source": [
    "#Flattening the final hiddden layer to get the output layer\n",
    "lay_1 = Flatten()(vgg_model.output)\n",
    "prediction = Dense(len(number_of_items), activation='softmax')(lay_1)\n",
    "# create a model object\n",
    "obj_model = Model(inputs=vgg_model.input, outputs=prediction)\n"
   ]
  },
  {
   "cell_type": "code",
   "execution_count": 10,
   "metadata": {
    "colab": {
     "base_uri": "https://localhost:8080/"
    },
    "id": "gMVipoAM2ydP",
    "outputId": "e109d5ca-210a-48e4-eee8-a689a4e85362"
   },
   "outputs": [
    {
     "name": "stdout",
     "output_type": "stream",
     "text": [
      "Model: \"model\"\n",
      "_________________________________________________________________\n",
      " Layer (type)                Output Shape              Param #   \n",
      "=================================================================\n",
      " input_1 (InputLayer)        [(None, 224, 224, 3)]     0         \n",
      "                                                                 \n",
      " block1_conv1 (Conv2D)       (None, 224, 224, 64)      1792      \n",
      "                                                                 \n",
      " block1_conv2 (Conv2D)       (None, 224, 224, 64)      36928     \n",
      "                                                                 \n",
      " block1_pool (MaxPooling2D)  (None, 112, 112, 64)      0         \n",
      "                                                                 \n",
      " block2_conv1 (Conv2D)       (None, 112, 112, 128)     73856     \n",
      "                                                                 \n",
      " block2_conv2 (Conv2D)       (None, 112, 112, 128)     147584    \n",
      "                                                                 \n",
      " block2_pool (MaxPooling2D)  (None, 56, 56, 128)       0         \n",
      "                                                                 \n",
      " block3_conv1 (Conv2D)       (None, 56, 56, 256)       295168    \n",
      "                                                                 \n",
      " block3_conv2 (Conv2D)       (None, 56, 56, 256)       590080    \n",
      "                                                                 \n",
      " block3_conv3 (Conv2D)       (None, 56, 56, 256)       590080    \n",
      "                                                                 \n",
      " block3_pool (MaxPooling2D)  (None, 28, 28, 256)       0         \n",
      "                                                                 \n",
      " block4_conv1 (Conv2D)       (None, 28, 28, 512)       1180160   \n",
      "                                                                 \n",
      " block4_conv2 (Conv2D)       (None, 28, 28, 512)       2359808   \n",
      "                                                                 \n",
      " block4_conv3 (Conv2D)       (None, 28, 28, 512)       2359808   \n",
      "                                                                 \n",
      " block4_pool (MaxPooling2D)  (None, 14, 14, 512)       0         \n",
      "                                                                 \n",
      " block5_conv1 (Conv2D)       (None, 14, 14, 512)       2359808   \n",
      "                                                                 \n",
      " block5_conv2 (Conv2D)       (None, 14, 14, 512)       2359808   \n",
      "                                                                 \n",
      " block5_conv3 (Conv2D)       (None, 14, 14, 512)       2359808   \n",
      "                                                                 \n",
      " block5_pool (MaxPooling2D)  (None, 7, 7, 512)         0         \n",
      "                                                                 \n",
      " flatten (Flatten)           (None, 25088)             0         \n",
      "                                                                 \n",
      " dense (Dense)               (None, 2)                 50178     \n",
      "                                                                 \n",
      "=================================================================\n",
      "Total params: 14,764,866\n",
      "Trainable params: 50,178\n",
      "Non-trainable params: 14,714,688\n",
      "_________________________________________________________________\n"
     ]
    }
   ],
   "source": [
    "# view the structure of the model\n",
    "obj_model.summary()\n"
   ]
  },
  {
   "cell_type": "code",
   "execution_count": 11,
   "metadata": {
    "id": "wEqwFsdA21Qy"
   },
   "outputs": [],
   "source": [
    "#compiling the model object by defining what loss method and optimizer we have to use \n",
    "obj_model.compile(\n",
    "  loss='categorical_crossentropy',\n",
    "  optimizer='adam',\n",
    "  metrics=['accuracy']\n",
    ")"
   ]
  },
  {
   "cell_type": "markdown",
   "metadata": {
    "id": "BNsxvqgESf48"
   },
   "source": [
    "### Running epochs"
   ]
  },
  {
   "cell_type": "code",
   "execution_count": 12,
   "metadata": {
    "id": "G7Nl1jRp8n40"
   },
   "outputs": [],
   "source": [
    "epoch_number = 10\n",
    "trn_stp=trn_data.n//trn_data.batch_size\n",
    "val_stp =tst_data.n//tst_data.batch_size"
   ]
  },
  {
   "cell_type": "code",
   "execution_count": 13,
   "metadata": {
    "colab": {
     "base_uri": "https://localhost:8080/"
    },
    "id": "y9JP-kPy_ZID",
    "outputId": "d266ab25-b905-493c-8993-f3d0deae8c2b"
   },
   "outputs": [
    {
     "name": "stdout",
     "output_type": "stream",
     "text": [
      "Steps taken for the train data\n",
      " 38\n",
      "Steps taken for the test data\n",
      " 6\n"
     ]
    }
   ],
   "source": [
    "print(\"Steps taken for the train data\\n\",trn_stp)\n",
    "print(\"Steps taken for the test data\\n\",val_stp)"
   ]
  },
  {
   "cell_type": "code",
   "execution_count": 14,
   "metadata": {
    "colab": {
     "base_uri": "https://localhost:8080/"
    },
    "id": "8Wi_0fS12kMZ",
    "outputId": "0eb04026-0881-47a4-9dd2-cd978d05a8c0"
   },
   "outputs": [
    {
     "name": "stderr",
     "output_type": "stream",
     "text": [
      "/usr/local/lib/python3.7/dist-packages/ipykernel_launcher.py:7: UserWarning: `Model.fit_generator` is deprecated and will be removed in a future version. Please use `Model.fit`, which supports generators.\n",
      "  import sys\n"
     ]
    },
    {
     "name": "stdout",
     "output_type": "stream",
     "text": [
      "Epoch 1/10\n",
      "39/39 [==============================] - 408s 10s/step - loss: 0.3683 - accuracy: 0.8298 - val_loss: 0.1392 - val_accuracy: 0.9312\n",
      "Epoch 2/10\n",
      "39/39 [==============================] - 18s 470ms/step - loss: 0.1113 - accuracy: 0.9643 - val_loss: 0.1227 - val_accuracy: 0.9725\n",
      "Epoch 3/10\n",
      "39/39 [==============================] - 18s 470ms/step - loss: 0.0903 - accuracy: 0.9700 - val_loss: 0.0945 - val_accuracy: 0.9587\n",
      "Epoch 4/10\n",
      "39/39 [==============================] - 18s 469ms/step - loss: 0.0751 - accuracy: 0.9733 - val_loss: 0.0833 - val_accuracy: 0.9679\n",
      "Epoch 5/10\n",
      "39/39 [==============================] - 18s 472ms/step - loss: 0.0707 - accuracy: 0.9789 - val_loss: 0.0981 - val_accuracy: 0.9633\n",
      "Epoch 6/10\n",
      "39/39 [==============================] - 18s 468ms/step - loss: 0.0653 - accuracy: 0.9789 - val_loss: 0.0907 - val_accuracy: 0.9725\n",
      "Epoch 7/10\n",
      "39/39 [==============================] - 18s 468ms/step - loss: 0.0530 - accuracy: 0.9838 - val_loss: 0.1164 - val_accuracy: 0.9587\n",
      "Epoch 8/10\n",
      "39/39 [==============================] - 19s 484ms/step - loss: 0.0489 - accuracy: 0.9822 - val_loss: 0.0766 - val_accuracy: 0.9725\n",
      "Epoch 9/10\n",
      "39/39 [==============================] - 18s 468ms/step - loss: 0.0439 - accuracy: 0.9870 - val_loss: 0.0820 - val_accuracy: 0.9771\n",
      "Epoch 10/10\n",
      "39/39 [==============================] - 18s 472ms/step - loss: 0.0537 - accuracy: 0.9830 - val_loss: 0.0724 - val_accuracy: 0.9771\n"
     ]
    }
   ],
   "source": [
    "# fitting the model\n",
    "r = obj_model.fit_generator(\n",
    "  trn_data,\n",
    "  validation_data=tst_data,\n",
    "  epochs=10,\n",
    "  steps_per_epoch=len(trn_data),\n",
    "  validation_steps=len(tst_data)\n",
    ")"
   ]
  },
  {
   "cell_type": "markdown",
   "metadata": {
    "id": "l5mXCHY6Sf5E"
   },
   "source": [
    "### Vizualizing the loss and accuracy for our train and test set"
   ]
  },
  {
   "cell_type": "code",
   "execution_count": 15,
   "metadata": {
    "colab": {
     "base_uri": "https://localhost:8080/",
     "height": 283
    },
    "id": "XnUJdAT23HJ2",
    "outputId": "c93e0cb6-d05b-4dd4-ae65-86a15b0e7a4f"
   },
   "outputs": [
    {
     "data": {
      "image/png": "[encoded data removed]",
      "text/plain": [
       "<Figure size 432x288 with 1 Axes>"
      ]
     },
     "metadata": {
      "needs_background": "light"
     },
     "output_type": "display_data"
    },
    {
     "data": {
      "text/plain": [
       "<Figure size 432x288 with 0 Axes>"
      ]
     },
     "metadata": {},
     "output_type": "display_data"
    }
   ],
   "source": [
    "# loss\n",
    "plt.plot(r.history['loss'], label='train data loss')\n",
    "plt.plot(r.history['val_loss'], label='test data loss')\n",
    "plt.legend()\n",
    "plt.show()\n",
    "plt.savefig('loss_plot')\n"
   ]
  },
  {
   "cell_type": "code",
   "execution_count": 16,
   "metadata": {
    "colab": {
     "base_uri": "https://localhost:8080/",
     "height": 283
    },
    "id": "wryQqlbB3HM8",
    "outputId": "820e5da5-e45e-4a0f-c960-ca4ebd1ce378"
   },
   "outputs": [
    {
     "data": {
      "image/png": "[encoded data removed]",
      "text/plain": [
       "<Figure size 432x288 with 1 Axes>"
      ]
     },
     "metadata": {
      "needs_background": "light"
     },
     "output_type": "display_data"
    },
    {
     "data": {
      "text/plain": [
       "<Figure size 432x288 with 0 Axes>"
      ]
     },
     "metadata": {},
     "output_type": "display_data"
    }
   ],
   "source": [
    "plt.plot(r.history['accuracy'], label='train accuracy')\n",
    "plt.plot(r.history['val_accuracy'], label='test accuracy')\n",
    "plt.legend()\n",
    "plt.show()\n",
    "plt.savefig('Accuracy_plot')"
   ]
  },
  {
   "cell_type": "code",
   "execution_count": 17,
   "metadata": {
    "id": "1_jJgJfv3RSM"
   },
   "outputs": [],
   "source": [
    "# Saving the model\n",
    "obj_model.save('/content/gdrive/MyDrive/Group_9/keras_vgg16_drowsiness.h5')"
   ]
  },
  {
   "cell_type": "markdown",
   "metadata": {},
   "source": [
    "### REFERENCES\n",
    "1. https://towardsdatascience.com/fine-tuning-pre-trained-model-vgg-16-1277268c537f\n",
    "2. https://www.geeksforgeeks.org/vgg-16-cnn-model/\n",
    "3. https://towardsdatascience.com/step-by-step-vgg16-implementation-in-keras-for-beginners-a833c686ae6c\n",
    "4. https://www.mygreatlearning.com/blog/introduction-to-vgg16/"
   ]
  },
  {
   "cell_type": "code",
   "execution_count": null,
   "metadata": {},
   "outputs": [],
   "source": []
  }
 ],
 "metadata": {
  "accelerator": "GPU",
  "colab": {
   "collapsed_sections": [],
   "name": "DROWSINESS_DETECTION_WITH_VGG16_USING_KERAS_TRAIN.ipynb",
   "provenance": []
  },
  "kernelspec": {
   "display_name": "Python 3 (ipykernel)",
   "language": "python",
   "name": "python3"
  },
  "language_info": {
   "codemirror_mode": {
    "name": "ipython",
    "version": 3
   },
   "file_extension": ".py",
   "mimetype": "text/x-python",
   "name": "python",
   "nbconvert_exporter": "python",
   "pygments_lexer": "ipython3",
   "version": "3.8.8"
  }
 },
 "nbformat": 4,
 "nbformat_minor": 1
}
