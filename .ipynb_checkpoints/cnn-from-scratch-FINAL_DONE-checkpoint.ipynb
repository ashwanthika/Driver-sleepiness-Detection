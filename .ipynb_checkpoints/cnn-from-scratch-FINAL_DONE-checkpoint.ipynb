{
 "cells": [
  {
   "cell_type": "code",
   "execution_count": null,
   "metadata": {},
   "outputs": [],
   "source": []
  },
  {
   "cell_type": "code",
   "execution_count": null,
   "metadata": {},
   "outputs": [],
   "source": []
  },
  {
   "cell_type": "code",
   "execution_count": 1,
   "metadata": {
    "_cell_guid": "b1076dfc-b9ad-4769-8c92-a6c4dae69d19",
    "_uuid": "8f2839f25d086af736a60e9eeb907d3b93b6e0e5",
    "execution": {
     "iopub.execute_input": "2021-11-20T01:01:05.310271Z",
     "iopub.status.busy": "2021-11-20T01:01:05.309906Z",
     "iopub.status.idle": "2021-11-20T01:01:05.323034Z",
     "shell.execute_reply": "2021-11-20T01:01:05.322231Z",
     "shell.execute_reply.started": "2021-11-20T01:01:05.310231Z"
    }
   },
   "outputs": [],
   "source": [
    "# This Python 3 environment comes with many helpful analytics libraries installed\n",
    "import numpy as np # linear algebra\n",
    "import pandas as pd # data processing, CSV file I/O (e.g. pd.read_csv)\n",
    "import matplotlib\n",
    "import os\n",
    "from PIL import Image\n",
    "from keras.preprocessing import image\n",
    "import pandas as pd \n",
    "import numpy as np\n",
    "import cv2\n",
    "import matplotlib.pyplot as plt\n",
    "import pandas as pd\n",
    "from tqdm import tqdm"
   ]
  },
  {
   "cell_type": "code",
   "execution_count": 2,
   "metadata": {},
   "outputs": [
    {
     "data": {
      "image/png": "[encoded data removed]",
      "text/plain": [
       "<PIL.Image.Image image mode=LA size=48x48 at 0x166FC5B8BE0>"
      ]
     },
     "execution_count": 2,
     "metadata": {},
     "output_type": "execute_result"
    }
   ],
   "source": [
    "jpg_path= 'C:/Users/lakshman/Desktop/Group_9/Group_9/dataset/dataset_eye/train/Open_1.jpg'\n",
    "im = Image.open(jpg_path).convert('LA')\n",
    "newsize = (48, 48)\n",
    "im1 = im.resize(newsize)\n",
    "im1"
   ]
  },
  {
   "cell_type": "code",
   "execution_count": 44,
   "metadata": {},
   "outputs": [
    {
     "data": {
      "image/png": "[encoded data removed]",
      "text/plain": [
       "<PIL.Image.Image image mode=L size=48x48 at 0x26997E52888>"
      ]
     },
     "execution_count": 44,
     "metadata": {},
     "output_type": "execute_result"
    }
   ],
   "source": [
    "img = image.load_img(\"C:\\\\Users\\\\pc\\\\Desktop\\\\Drowsiness detection\\\\image.jpg\",target_size = (48,48),color_mode = \"grayscale\")\n",
    "img"
   ]
  },
  {
   "cell_type": "code",
   "execution_count": 3,
   "metadata": {},
   "outputs": [],
   "source": [
    "width, height = im1.size"
   ]
  },
  {
   "cell_type": "code",
   "execution_count": 4,
   "metadata": {},
   "outputs": [
    {
     "name": "stdout",
     "output_type": "stream",
     "text": [
      "48 48\n"
     ]
    }
   ],
   "source": [
    "print(width, height)"
   ]
  },
  {
   "cell_type": "code",
   "execution_count": 18,
   "metadata": {},
   "outputs": [],
   "source": [
    "pix_values=[]\n",
    "classes = []\n",
    "dirs = []\n",
    "for dirname, _, filenames in os.walk('C:/Users/Anu/Downloads/Group_9/dataset/dataset_eye'):\n",
    "    \n",
    "    for filename in filenames:\n",
    "        jpg_path = os.path.join(dirname, filename)\n",
    "        emotion = jpg_path.split(\"\\\\\")[-2]\n",
    "        classes.append(emotion)\n",
    "        dir = jpg_path.split(\"\\\\\")[-3]\n",
    "        dirs.append(dir)\n",
    "        im = Image.open(jpg_path).convert('LA')\n",
    "        \n",
    "        newsize = (48, 48)\n",
    "        im = im.resize(newsize)\n",
    "        # grayscale\n",
    "        pix_val=list(im.getdata())\n",
    "        pix_val_flat = [x for sets in pix_val for x in sets]\n",
    "        pix_values.append(pix_val_flat)      \n",
    "#         pix_val_flat = [x for sets in pix_val for x in sets]"
   ]
  },
  {
   "cell_type": "code",
   "execution_count": 19,
   "metadata": {},
   "outputs": [
    {
     "name": "stdout",
     "output_type": "stream",
     "text": [
      "pix_val_flat:  1452\n",
      "classes:  1452\n",
      "dirs:  1452\n"
     ]
    }
   ],
   "source": [
    "print(\"pix_val_flat: \",len(pix_values))\n",
    "print(\"classes: \",len(classes))\n",
    "print(\"dirs: \",len(dirs))"
   ]
  },
  {
   "cell_type": "code",
   "execution_count": 20,
   "metadata": {},
   "outputs": [
    {
     "name": "stdout",
     "output_type": "stream",
     "text": [
      "                                              pixels emotion Usage\n",
      "0  [179, 255, 176, 255, 173, 255, 172, 255, 173, ...  Closed  test\n",
      "1  [168, 255, 166, 255, 168, 255, 167, 255, 169, ...  Closed  test\n",
      "2  [64, 255, 70, 255, 74, 255, 83, 255, 91, 255, ...  Closed  test\n",
      "3  [183, 255, 183, 255, 181, 255, 182, 255, 178, ...  Closed  test\n",
      "4  [228, 255, 229, 255, 230, 255, 231, 255, 233, ...  Closed  test\n"
     ]
    }
   ],
   "source": [
    "# list of name, degree, score \n",
    "# dictionary of lists \n",
    "dict = {'pixels': pix_values, 'emotion': classes, 'Usage': dirs}  \n",
    "df = pd.DataFrame(dict) \n",
    "print(df.head()) "
   ]
  },
  {
   "cell_type": "code",
   "execution_count": 21,
   "metadata": {},
   "outputs": [
    {
     "data": {
      "text/plain": [
       "Open      726\n",
       "Closed    726\n",
       "Name: emotion, dtype: int64"
      ]
     },
     "execution_count": 21,
     "metadata": {},
     "output_type": "execute_result"
    }
   ],
   "source": [
    "df[\"emotion\"].value_counts()"
   ]
  },
  {
   "cell_type": "code",
   "execution_count": 22,
   "metadata": {},
   "outputs": [],
   "source": [
    "df.emotion [df.emotion  == 'Closed'] = 0\n",
    "df.emotion [df.emotion  == 'Open'] = 1"
   ]
  },
  {
   "cell_type": "code",
   "execution_count": 23,
   "metadata": {},
   "outputs": [
    {
     "data": {
      "text/plain": [
       "0    726\n",
       "1    726\n",
       "Name: emotion, dtype: int64"
      ]
     },
     "execution_count": 23,
     "metadata": {},
     "output_type": "execute_result"
    }
   ],
   "source": [
    " df[\"emotion\"].value_counts()"
   ]
  },
  {
   "cell_type": "code",
   "execution_count": 24,
   "metadata": {},
   "outputs": [
    {
     "data": {
      "text/plain": [
       "train    1234\n",
       "test      218\n",
       "Name: Usage, dtype: int64"
      ]
     },
     "execution_count": 24,
     "metadata": {},
     "output_type": "execute_result"
    }
   ],
   "source": [
    " df[\"Usage\"].value_counts()"
   ]
  },
  {
   "cell_type": "code",
   "execution_count": 25,
   "metadata": {},
   "outputs": [],
   "source": [
    "df.Usage [df.Usage  == 'train']=\"Training\""
   ]
  },
  {
   "cell_type": "code",
   "execution_count": 26,
   "metadata": {},
   "outputs": [
    {
     "data": {
      "text/plain": [
       "Training    1234\n",
       "test         218\n",
       "Name: Usage, dtype: int64"
      ]
     },
     "execution_count": 26,
     "metadata": {},
     "output_type": "execute_result"
    }
   ],
   "source": [
    " df[\"Usage\"].value_counts()"
   ]
  },
  {
   "cell_type": "code",
   "execution_count": 27,
   "metadata": {},
   "outputs": [
    {
     "data": {
      "text/html": [
       "<div>\n",
       "<style scoped>\n",
       "    .dataframe tbody tr th:only-of-type {\n",
       "        vertical-align: middle;\n",
       "    }\n",
       "\n",
       "    .dataframe tbody tr th {\n",
       "        vertical-align: top;\n",
       "    }\n",
       "\n",
       "    .dataframe thead th {\n",
       "        text-align: right;\n",
       "    }\n",
       "</style>\n",
       "<table border=\"1\" class=\"dataframe\">\n",
       "  <thead>\n",
       "    <tr style=\"text-align: right;\">\n",
       "      <th></th>\n",
       "      <th>pixels</th>\n",
       "      <th>emotion</th>\n",
       "      <th>Usage</th>\n",
       "    </tr>\n",
       "  </thead>\n",
       "  <tbody>\n",
       "    <tr>\n",
       "      <th>0</th>\n",
       "      <td>[179, 255, 176, 255, 173, 255, 172, 255, 173, ...</td>\n",
       "      <td>0</td>\n",
       "      <td>test</td>\n",
       "    </tr>\n",
       "    <tr>\n",
       "      <th>1</th>\n",
       "      <td>[168, 255, 166, 255, 168, 255, 167, 255, 169, ...</td>\n",
       "      <td>0</td>\n",
       "      <td>test</td>\n",
       "    </tr>\n",
       "    <tr>\n",
       "      <th>2</th>\n",
       "      <td>[64, 255, 70, 255, 74, 255, 83, 255, 91, 255, ...</td>\n",
       "      <td>0</td>\n",
       "      <td>test</td>\n",
       "    </tr>\n",
       "    <tr>\n",
       "      <th>3</th>\n",
       "      <td>[183, 255, 183, 255, 181, 255, 182, 255, 178, ...</td>\n",
       "      <td>0</td>\n",
       "      <td>test</td>\n",
       "    </tr>\n",
       "    <tr>\n",
       "      <th>4</th>\n",
       "      <td>[228, 255, 229, 255, 230, 255, 231, 255, 233, ...</td>\n",
       "      <td>0</td>\n",
       "      <td>test</td>\n",
       "    </tr>\n",
       "  </tbody>\n",
       "</table>\n",
       "</div>"
      ],
      "text/plain": [
       "                                              pixels emotion Usage\n",
       "0  [179, 255, 176, 255, 173, 255, 172, 255, 173, ...       0  test\n",
       "1  [168, 255, 166, 255, 168, 255, 167, 255, 169, ...       0  test\n",
       "2  [64, 255, 70, 255, 74, 255, 83, 255, 91, 255, ...       0  test\n",
       "3  [183, 255, 183, 255, 181, 255, 182, 255, 178, ...       0  test\n",
       "4  [228, 255, 229, 255, 230, 255, 231, 255, 233, ...       0  test"
      ]
     },
     "execution_count": 27,
     "metadata": {},
     "output_type": "execute_result"
    }
   ],
   "source": [
    "df.head()"
   ]
  },
  {
   "cell_type": "code",
   "execution_count": 28,
   "metadata": {
    "execution": {
     "iopub.execute_input": "2021-11-19T22:01:00.412599Z",
     "iopub.status.busy": "2021-11-19T22:01:00.412042Z",
     "iopub.status.idle": "2021-11-19T22:03:44.823663Z",
     "shell.execute_reply": "2021-11-19T22:03:44.822690Z",
     "shell.execute_reply.started": "2021-11-19T22:01:00.412555Z"
    }
   },
   "outputs": [
    {
     "name": "stdout",
     "output_type": "stream",
     "text": [
      "{'Training': 1234, 'Test': 218}\n"
     ]
    }
   ],
   "source": [
    "matrix = np.zeros((48, 48), dtype=np.uint8)\n",
    "\n",
    "train_images = []\n",
    "test_images = []\n",
    "train_labels = []\n",
    "test_labels = []\n",
    "\n",
    "data_type = df[\"Usage\"].value_counts()\n",
    "data_type = data_type.to_dict()\n",
    "data_type[\"Test\"] = data_type[\"test\"]\n",
    "del data_type[\"test\"]\n",
    "print(data_type)\n",
    "\n"
   ]
  },
  {
   "cell_type": "code",
   "execution_count": 29,
   "metadata": {},
   "outputs": [
    {
     "data": {
      "text/plain": [
       "0    726\n",
       "1    726\n",
       "Name: emotion, dtype: int64"
      ]
     },
     "execution_count": 29,
     "metadata": {},
     "output_type": "execute_result"
    }
   ],
   "source": [
    "df[\"emotion\"].value_counts()"
   ]
  },
  {
   "cell_type": "code",
   "execution_count": 30,
   "metadata": {},
   "outputs": [
    {
     "data": {
      "text/plain": [
       "'Training'"
      ]
     },
     "execution_count": 30,
     "metadata": {},
     "output_type": "execute_result"
    }
   ],
   "source": [
    "df['Usage'][1447]"
   ]
  },
  {
   "cell_type": "code",
   "execution_count": 31,
   "metadata": {},
   "outputs": [
    {
     "name": "stderr",
     "output_type": "stream",
     "text": [
      "100%|█████████████████████████████████████████████████████████████████████████████| 1452/1452 [00:07<00:00, 187.69it/s]\n"
     ]
    }
   ],
   "source": [
    "def atoi(s):\n",
    "  n = 0\n",
    "  for i in s:\n",
    "    n = n * 10 + ord(i) - ord(\"0\")\n",
    "  return n\n",
    "\n",
    "\n",
    "for value in tqdm(range(len(df))):\n",
    "  pixels = df['pixels'][value]\n",
    "#   pixels_split = pixels.split()\n",
    "  pixels_split = str(pixels).split(\",\")\n",
    "    # phrase = re.sub(r\"\\'ll\", \" will\", phrase)\n",
    "  pixels_split =str(pixels_split).replace('[',\"\")\n",
    "  pixels_split =str(pixels_split).replace(']',\"\")\n",
    "  pixels_split =str(pixels_split).replace(' ',\"\")\n",
    "  pixels_split = pixels_split.split(\",\")\n",
    "    # pixels_split =list(pixels_split)\n",
    "  pixels_split = [i.replace(\"'\", '') for i in pixels_split]\n",
    "\n",
    "\n",
    "  for values in range(2304):\n",
    "    x_index = values // 48\n",
    "    y_index = values % 48\n",
    "    matrix[x_index][y_index] = atoi(pixels_split[values])\n",
    "\n",
    "  if df['Usage'][value]=='Training':\n",
    "    train_images.append(matrix)\n",
    "    train_labels.append(df[\"emotion\"][value])\n",
    "  else:\n",
    "    test_images.append(matrix)\n",
    "    test_labels.append(df[\"emotion\"][value])\n",
    "\n",
    "train_images = np.array(train_images)\n",
    "test_images = np.array(test_images)\n",
    "train_labels = np.array(train_labels)\n",
    "test_labels = np.array(test_labels)"
   ]
  },
  {
   "cell_type": "code",
   "execution_count": 32,
   "metadata": {},
   "outputs": [],
   "source": [
    "df_train = df[df['Usage']==\"Training\"]\n",
    "df_test = df[df['Usage']==\"test\"]"
   ]
  },
  {
   "cell_type": "code",
   "execution_count": 33,
   "metadata": {},
   "outputs": [
    {
     "data": {
      "text/plain": [
       "0    617\n",
       "1    617\n",
       "Name: emotion, dtype: int64"
      ]
     },
     "execution_count": 33,
     "metadata": {},
     "output_type": "execute_result"
    }
   ],
   "source": [
    "df_train['emotion'].value_counts()"
   ]
  },
  {
   "cell_type": "code",
   "execution_count": 34,
   "metadata": {},
   "outputs": [
    {
     "data": {
      "text/plain": [
       "0    109\n",
       "1    109\n",
       "Name: emotion, dtype: int64"
      ]
     },
     "execution_count": 34,
     "metadata": {},
     "output_type": "execute_result"
    }
   ],
   "source": [
    "df_test['emotion'].value_counts()"
   ]
  },
  {
   "cell_type": "code",
   "execution_count": 35,
   "metadata": {},
   "outputs": [
    {
     "name": "stdout",
     "output_type": "stream",
     "text": [
      "Counter({0: 617, 1: 617})\n"
     ]
    }
   ],
   "source": [
    "from collections import Counter\n",
    "\n",
    "print(Counter(train_labels))"
   ]
  },
  {
   "cell_type": "code",
   "execution_count": 36,
   "metadata": {},
   "outputs": [
    {
     "name": "stdout",
     "output_type": "stream",
     "text": [
      "Counter({0: 109, 1: 109})\n"
     ]
    }
   ],
   "source": [
    "from collections import Counter\n",
    "\n",
    "print(Counter(test_labels))"
   ]
  },
  {
   "cell_type": "code",
   "execution_count": 37,
   "metadata": {},
   "outputs": [
    {
     "name": "stdout",
     "output_type": "stream",
     "text": [
      "1234\n",
      "218\n"
     ]
    }
   ],
   "source": [
    "print(len(train_images))\n",
    "print(len(test_images))"
   ]
  },
  {
   "cell_type": "code",
   "execution_count": 38,
   "metadata": {
    "execution": {
     "iopub.execute_input": "2021-11-19T22:03:44.825149Z",
     "iopub.status.busy": "2021-11-19T22:03:44.824932Z",
     "iopub.status.idle": "2021-11-19T22:03:44.837124Z",
     "shell.execute_reply": "2021-11-19T22:03:44.836296Z",
     "shell.execute_reply.started": "2021-11-19T22:03:44.825122Z"
    }
   },
   "outputs": [],
   "source": [
    "class conv:\n",
    "    def __init__(self, number_of_filters, filter_dim):\n",
    "        self.number_of_filters = number_of_filters\n",
    "        self.filter_dim = filter_dim\n",
    "        self.conv_filters = np.random.randn(number_of_filters, filter_dim, filter_dim)/(filter_dim * filter_dim)\n",
    "\n",
    "    def image_region(self, image):\n",
    "        height, width = image.shape\n",
    "        self.image = image\n",
    "        for j in range(height - self.filter_dim + 1):\n",
    "            for k in range(width - self.filter_dim + 1):\n",
    "                image_patch = image[ j : (j + self.filter_dim), k : (k + self.filter_dim)]\n",
    "                yield image_patch, j, k\n",
    "\n",
    "    def forward_propagation(self, image):\n",
    "        height, width = image.shape\n",
    "        conv_out = np.zeros((height - self.filter_dim + 1, width - self.filter_dim + 1, self.number_of_filters))\n",
    "        for image_patch, i, j in self.image_region(image):\n",
    "            conv_out[i, j] = np.sum(image_patch * self.conv_filters, axis = (1,2))\n",
    "        return conv_out\n",
    "\n",
    "    def back_propagation(self, dl_dout, learning_rate):\n",
    "        dl_df_params = np.zeros(self.conv_filters.shape)\n",
    "        for image_patch, i, j in self.image_region(self.image):\n",
    "            for k in range(self.number_of_filters):\n",
    "                dl_df_params[k] += image_patch*dl_dout[i, j, k]\n",
    "\n",
    "            self.conv_filters -= learning_rate*dl_df_params\n",
    "            return dl_df_params"
   ]
  },
  {
   "cell_type": "code",
   "execution_count": 39,
   "metadata": {
    "execution": {
     "iopub.execute_input": "2021-11-19T22:03:44.839459Z",
     "iopub.status.busy": "2021-11-19T22:03:44.839250Z",
     "iopub.status.idle": "2021-11-19T22:03:44.853401Z",
     "shell.execute_reply": "2021-11-19T22:03:44.852678Z",
     "shell.execute_reply.started": "2021-11-19T22:03:44.839435Z"
    }
   },
   "outputs": [],
   "source": [
    "class max_pool:\n",
    "    def __init__(self, filter_dim):\n",
    "        self.filter_dim = filter_dim\n",
    "\n",
    "    def image_region(self, image):\n",
    "        new_height = image.shape[0] // self.filter_dim\n",
    "        new_width = image.shape[1] // self.filter_dim\n",
    "        self.image = image\n",
    "\n",
    "        for i in range(new_height):\n",
    "            for j in range(new_width):\n",
    "                image_patch = image[(i*self.filter_dim) :(i*self.filter_dim + self.filter_dim), (j*self.filter_dim) : (j*self.filter_dim + self.filter_dim)]\n",
    "                yield image_patch, i, j\n",
    "\n",
    "    def forward_propagation(self, image):\n",
    "        height, width, number_of_filters = image.shape\n",
    "        output = np.zeros((height // self.filter_dim, width // self.filter_dim, number_of_filters))\n",
    "\n",
    "        for image_patch, i, j in self.image_region(image):\n",
    "            output[i, j] = np.amax(image_patch, axis = (0,1))\n",
    "\n",
    "        return output\n",
    "\n",
    "    def back_propagation(self, dl_dout):\n",
    "        dl_dmax_pool = np.zeros(self.image.shape)\n",
    "        for image_patch, i, j in self.image_region(self.image):\n",
    "            height, width, number_of_filters = image_patch.shape\n",
    "            maximum_val = np.amax(image_patch, axis=(0,1))\n",
    "\n",
    "            for i1 in range(height):\n",
    "                for j1 in range(width):\n",
    "                    for k1 in range(number_of_filters):\n",
    "                        if image_patch[i1, j1, k1] == maximum_val[k1]:\n",
    "                            dl_dmax_pool[i*self.filter_dim + i1, j*self.filter_dim + j1, k1] = dl_dout[i, j, k1]\n",
    "\n",
    "            return dl_dmax_pool"
   ]
  },
  {
   "cell_type": "code",
   "execution_count": 40,
   "metadata": {
    "execution": {
     "iopub.execute_input": "2021-11-19T22:03:44.855907Z",
     "iopub.status.busy": "2021-11-19T22:03:44.855094Z",
     "iopub.status.idle": "2021-11-19T22:03:44.869371Z",
     "shell.execute_reply": "2021-11-19T22:03:44.868782Z",
     "shell.execute_reply.started": "2021-11-19T22:03:44.855864Z"
    }
   },
   "outputs": [],
   "source": [
    "class softmax:\n",
    "    def __init__(self, input_node, softmax_node):\n",
    "        self.weight = np.random.randn(input_node, softmax_node)/input_node\n",
    "        self.bias = np.zeros(softmax_node)\n",
    "\n",
    "    def forward_propagation(self, image):\n",
    "        self.orig_im_shape = image.shape\n",
    "        image_modified = image.flatten()\n",
    "        self.modified_input = image_modified\n",
    "        output_val = np.dot(image_modified, self.weight) + self.bias\n",
    "        self.out = output_val\n",
    "        exp_out = np.exp(output_val)\n",
    "\n",
    "        return exp_out/np.sum(exp_out, axis = 0)\n",
    "\n",
    "    def back_propagation(self, dl_dout, learning_rate):\n",
    "        for i, grad in enumerate(dl_dout):\n",
    "            if grad == 0:\n",
    "                continue\n",
    "\n",
    "            transformation_eq = np.exp(self.out)\n",
    "            s_total = np.sum(transformation_eq)\n",
    "\n",
    "            dy_dz = -transformation_eq[i]*transformation_eq / (s_total ** 2)\n",
    "            dy_dz[i] = transformation_eq[i] * (s_total - transformation_eq[i]) / (s_total ** 2)\n",
    "\n",
    "            dz_dw = self.modified_input\n",
    "            dz_db = 1\n",
    "            dz_d_inp = self.weight\n",
    "\n",
    "            dl_dz = grad * dy_dz\n",
    "\n",
    "            dl_dw = dz_dw[np.newaxis].T @ dl_dz[np.newaxis]\n",
    "            dl_db = dl_dz * dz_db\n",
    "            dl_d_inp = dz_d_inp @ dl_dz\n",
    "\n",
    "        self.weight -= learning_rate * dl_dw\n",
    "        self.bias -= learning_rate * dl_db\n",
    "\n",
    "        return dl_d_inp.reshape(self.orig_im_shape)"
   ]
  },
  {
   "cell_type": "code",
   "execution_count": 41,
   "metadata": {
    "execution": {
     "iopub.execute_input": "2021-11-19T22:03:44.870814Z",
     "iopub.status.busy": "2021-11-19T22:03:44.870577Z",
     "iopub.status.idle": "2021-11-19T22:03:44.883161Z",
     "shell.execute_reply": "2021-11-19T22:03:44.882548Z",
     "shell.execute_reply.started": "2021-11-19T22:03:44.870788Z"
    }
   },
   "outputs": [],
   "source": [
    "convo = conv(10, 7)\n",
    "pool = max_pool(4)\n",
    "soft_max = softmax(10*10*10, 2)"
   ]
  },
  {
   "cell_type": "code",
   "execution_count": 42,
   "metadata": {
    "execution": {
     "iopub.execute_input": "2021-11-19T22:03:44.884802Z",
     "iopub.status.busy": "2021-11-19T22:03:44.884104Z",
     "iopub.status.idle": "2021-11-19T22:03:44.894803Z",
     "shell.execute_reply": "2021-11-19T22:03:44.893962Z",
     "shell.execute_reply.started": "2021-11-19T22:03:44.884755Z"
    }
   },
   "outputs": [],
   "source": [
    "def cnn_forward_prop(image, label):\n",
    "    out_p = convo.forward_propagation((image / 255) - 0.5)\n",
    "    out_p = pool.forward_propagation(out_p)\n",
    "    out_p = soft_max.forward_propagation(out_p)\n",
    "\n",
    "    cross_ent_loss = -np.log(out_p[label])\n",
    "    accuracy_eval = 1 if np.argmax(out_p) == label else 0\n",
    "\n",
    "    return out_p, cross_ent_loss, accuracy_eval\n",
    "\n",
    "def training_cnn(image, label, learn_rate=0.001):\n",
    "\n",
    "    out, loss, acc = cnn_forward_prop(image, label)\n",
    "\n",
    "    gradient = np.zeros(7)\n",
    "    gradient[label] = -1 / out[label]\n",
    "\n",
    "    grad_back = soft_max.back_propagation(gradient, learn_rate)\n",
    "    grad_back = pool.back_propagation(grad_back)\n",
    "    grad_back = convo.back_propagation(grad_back, learn_rate)\n",
    "\n",
    "    return loss, acc"
   ]
  },
  {
   "cell_type": "code",
   "execution_count": 43,
   "metadata": {
    "execution": {
     "iopub.execute_input": "2021-11-19T22:03:44.897385Z",
     "iopub.status.busy": "2021-11-19T22:03:44.896836Z",
     "iopub.status.idle": "2021-11-19T23:13:53.756611Z",
     "shell.execute_reply": "2021-11-19T23:13:53.755198Z",
     "shell.execute_reply.started": "2021-11-19T22:03:44.897344Z"
    },
    "scrolled": true
   },
   "outputs": [
    {
     "name": "stdout",
     "output_type": "stream",
     "text": [
      "Epoch 1 ----> \n",
      "1 steps out of 100 steps: Average Loss 0.000 and Accuracy: 0%\n",
      "101 steps out of 100 steps: Average Loss 0.694 and Accuracy: 47%\n",
      "201 steps out of 100 steps: Average Loss 0.694 and Accuracy: 48%\n",
      "301 steps out of 100 steps: Average Loss 0.693 and Accuracy: 50%\n",
      "401 steps out of 100 steps: Average Loss 0.695 and Accuracy: 49%\n",
      "501 steps out of 100 steps: Average Loss 0.692 and Accuracy: 55%\n",
      "601 steps out of 100 steps: Average Loss 0.695 and Accuracy: 50%\n",
      "701 steps out of 100 steps: Average Loss 0.696 and Accuracy: 45%\n",
      "801 steps out of 100 steps: Average Loss 0.694 and Accuracy: 51%\n",
      "901 steps out of 100 steps: Average Loss 0.694 and Accuracy: 46%\n",
      "1001 steps out of 100 steps: Average Loss 0.694 and Accuracy: 50%\n",
      "1101 steps out of 100 steps: Average Loss 0.692 and Accuracy: 48%\n",
      "1201 steps out of 100 steps: Average Loss 0.696 and Accuracy: 44%\n",
      "Epoch 2 ----> \n",
      "1 steps out of 100 steps: Average Loss 0.000 and Accuracy: 0%\n",
      "101 steps out of 100 steps: Average Loss 0.695 and Accuracy: 49%\n",
      "201 steps out of 100 steps: Average Loss 0.691 and Accuracy: 53%\n",
      "301 steps out of 100 steps: Average Loss 0.697 and Accuracy: 47%\n",
      "401 steps out of 100 steps: Average Loss 0.692 and Accuracy: 55%\n",
      "501 steps out of 100 steps: Average Loss 0.694 and Accuracy: 51%\n",
      "601 steps out of 100 steps: Average Loss 0.696 and Accuracy: 46%\n",
      "701 steps out of 100 steps: Average Loss 0.695 and Accuracy: 43%\n",
      "801 steps out of 100 steps: Average Loss 0.694 and Accuracy: 46%\n",
      "901 steps out of 100 steps: Average Loss 0.692 and Accuracy: 53%\n",
      "1001 steps out of 100 steps: Average Loss 0.695 and Accuracy: 50%\n",
      "1101 steps out of 100 steps: Average Loss 0.694 and Accuracy: 52%\n",
      "1201 steps out of 100 steps: Average Loss 0.695 and Accuracy: 49%\n",
      "Epoch 3 ----> \n",
      "1 steps out of 100 steps: Average Loss 0.000 and Accuracy: 0%\n",
      "101 steps out of 100 steps: Average Loss 0.688 and Accuracy: 59%\n",
      "201 steps out of 100 steps: Average Loss 0.693 and Accuracy: 53%\n",
      "301 steps out of 100 steps: Average Loss 0.700 and Accuracy: 41%\n",
      "401 steps out of 100 steps: Average Loss 0.691 and Accuracy: 57%\n",
      "501 steps out of 100 steps: Average Loss 0.696 and Accuracy: 49%\n",
      "601 steps out of 100 steps: Average Loss 0.694 and Accuracy: 51%\n",
      "701 steps out of 100 steps: Average Loss 0.692 and Accuracy: 55%\n",
      "801 steps out of 100 steps: Average Loss 0.693 and Accuracy: 53%\n",
      "901 steps out of 100 steps: Average Loss 0.696 and Accuracy: 49%\n",
      "1001 steps out of 100 steps: Average Loss 0.695 and Accuracy: 44%\n",
      "1101 steps out of 100 steps: Average Loss 0.695 and Accuracy: 47%\n",
      "1201 steps out of 100 steps: Average Loss 0.694 and Accuracy: 49%\n",
      "Epoch 4 ----> \n",
      "1 steps out of 100 steps: Average Loss 0.000 and Accuracy: 0%\n",
      "101 steps out of 100 steps: Average Loss 0.697 and Accuracy: 35%\n",
      "201 steps out of 100 steps: Average Loss 0.694 and Accuracy: 52%\n",
      "301 steps out of 100 steps: Average Loss 0.692 and Accuracy: 56%\n",
      "401 steps out of 100 steps: Average Loss 0.684 and Accuracy: 61%\n",
      "501 steps out of 100 steps: Average Loss 0.699 and Accuracy: 48%\n",
      "601 steps out of 100 steps: Average Loss 0.685 and Accuracy: 59%\n",
      "701 steps out of 100 steps: Average Loss 0.698 and Accuracy: 49%\n",
      "801 steps out of 100 steps: Average Loss 0.700 and Accuracy: 41%\n",
      "901 steps out of 100 steps: Average Loss 0.695 and Accuracy: 46%\n",
      "1001 steps out of 100 steps: Average Loss 0.692 and Accuracy: 55%\n",
      "1101 steps out of 100 steps: Average Loss 0.693 and Accuracy: 53%\n",
      "1201 steps out of 100 steps: Average Loss 0.695 and Accuracy: 50%\n",
      "Epoch 5 ----> \n",
      "1 steps out of 100 steps: Average Loss 0.000 and Accuracy: 0%\n",
      "101 steps out of 100 steps: Average Loss 0.696 and Accuracy: 44%\n",
      "201 steps out of 100 steps: Average Loss 0.695 and Accuracy: 43%\n",
      "301 steps out of 100 steps: Average Loss 0.693 and Accuracy: 51%\n",
      "401 steps out of 100 steps: Average Loss 0.694 and Accuracy: 51%\n",
      "501 steps out of 100 steps: Average Loss 0.687 and Accuracy: 59%\n",
      "601 steps out of 100 steps: Average Loss 0.700 and Accuracy: 43%\n",
      "701 steps out of 100 steps: Average Loss 0.695 and Accuracy: 44%\n",
      "801 steps out of 100 steps: Average Loss 0.695 and Accuracy: 46%\n",
      "901 steps out of 100 steps: Average Loss 0.692 and Accuracy: 55%\n",
      "1001 steps out of 100 steps: Average Loss 0.694 and Accuracy: 51%\n",
      "1101 steps out of 100 steps: Average Loss 0.694 and Accuracy: 52%\n",
      "1201 steps out of 100 steps: Average Loss 0.695 and Accuracy: 49%\n",
      "Testing Phase\n",
      "Test Loss: 0.6938705277591596\n",
      "Test Accuracy: 0.5\n"
     ]
    }
   ],
   "source": [
    "for epoch1 in range(5):\n",
    "    print('Epoch %d ----> ' %(epoch1 + 1))\n",
    "\n",
    "    shuffle_data = np.random.permutation(len(train_images))\n",
    "    train_images = train_images[shuffle_data]\n",
    "    train_labels = train_labels[shuffle_data]\n",
    "\n",
    "    loss = 0\n",
    "    num_correct = 0\n",
    "\n",
    "    for i, (im, label) in enumerate(zip(train_images, train_labels)):\n",
    "        if i % 100 == 0:\n",
    "            print(\"%d steps out of 100 steps: Average Loss %.3f and Accuracy: %d%%\" %(i+1, loss / 100, num_correct))\n",
    "            loss = 0\n",
    "            num_correct = 0\n",
    "\n",
    "        l1, accu = training_cnn(im, label)\n",
    "        loss += l1\n",
    "        num_correct += accu\n",
    "\n",
    "print(\"Testing Phase\")\n",
    "loss = 0\n",
    "num_correct = 0\n",
    "\n",
    "for im, label in zip(test_images, test_labels):\n",
    "    _, l1, accu = cnn_forward_prop(im, label)\n",
    "    loss += l1\n",
    "    num_correct += accu\n",
    "\n",
    "num_tests = len(test_images)\n",
    "print('Test Loss:', loss / num_tests)\n",
    "print('Test Accuracy:', num_correct / num_tests)"
   ]
  },
  {
   "cell_type": "code",
   "execution_count": 44,
   "metadata": {
    "execution": {
     "iopub.execute_input": "2021-11-19T23:24:50.994762Z",
     "iopub.status.busy": "2021-11-19T23:24:50.993986Z",
     "iopub.status.idle": "2021-11-19T23:24:51.000719Z",
     "shell.execute_reply": "2021-11-19T23:24:50.999831Z",
     "shell.execute_reply.started": "2021-11-19T23:24:50.994724Z"
    }
   },
   "outputs": [
    {
     "name": "stdout",
     "output_type": "stream",
     "text": [
      "218\n",
      "218\n"
     ]
    }
   ],
   "source": [
    "print(len(test_images))\n",
    "print(len(test_labels))"
   ]
  },
  {
   "cell_type": "code",
   "execution_count": 66,
   "metadata": {
    "execution": {
     "iopub.execute_input": "2021-11-20T01:01:28.701496Z",
     "iopub.status.busy": "2021-11-20T01:01:28.700765Z",
     "iopub.status.idle": "2021-11-20T01:01:28.936248Z",
     "shell.execute_reply": "2021-11-20T01:01:28.935157Z",
     "shell.execute_reply.started": "2021-11-20T01:01:28.701436Z"
    }
   },
   "outputs": [
    {
     "name": "stdout",
     "output_type": "stream",
     "text": [
      "(48, 48)\n",
      "2304\n",
      "[array([[ 10,  12,  15, ..., 184, 184, 184],\n",
      "       [ 14,  14,  11, ..., 183, 183, 183],\n",
      "       [ 13,  14,  13, ..., 177, 177, 177],\n",
      "       ...,\n",
      "       [159, 164, 167, ..., 155, 165, 176],\n",
      "       [161, 166, 168, ..., 161, 170, 181],\n",
      "       [163, 168, 171, ..., 168, 177, 186]], dtype=uint8), array([[ 10,  12,  15, ..., 184, 184, 184],\n",
      "       [ 14,  14,  11, ..., 183, 183, 183],\n",
      "       [ 13,  14,  13, ..., 177, 177, 177],\n",
      "       ...,\n",
      "       [159, 164, 167, ..., 155, 165, 176],\n",
      "       [161, 166, 168, ..., 161, 170, 181],\n",
      "       [163, 168, 171, ..., 168, 177, 186]], dtype=uint8)]\n",
      "[0, 1]\n",
      "{0: 0, 1: 1}\n",
      "Open\n"
     ]
    },
    {
     "data": {
      "image/png": "[encoded data removed]",
      "text/plain": [
       "<Figure size 432x288 with 1 Axes>"
      ]
     },
     "metadata": {
      "needs_background": "light"
     },
     "output_type": "display_data"
    }
   ],
   "source": [
    "from keras.preprocessing import image\n",
    "import numpy as np\n",
    "img = image.load_img(\"C:/Users/Anu/Downloads/Group_9/dataset/dataset_eye/test/Open/_3.jpg\",target_size = (48,48),color_mode = \"grayscale\")\n",
    "img = np.array(img)\n",
    "plt.imshow(img)\n",
    "print(img.shape)\n",
    "img = np.expand_dims(img,axis = 0) #makes image shape (1,48,48)\n",
    "img = img.reshape(1,48,48)\n",
    "print(img.size)\n",
    "def predict(x):\n",
    "    new_image = []\n",
    "    loss_array = []\n",
    "    accuracy_array = []\n",
    "    data_dict = {}\n",
    "    emotionss = {0: 'Closed', 1: 'Open'}\n",
    "    for data in emotionss.keys():\n",
    "        new_image.append(x[0])\n",
    "    print(new_image)\n",
    "    for im, label in zip(new_image, emotionss.keys()):\n",
    "        loss = 0\n",
    "        num_correct = 0\n",
    "        _, l1, accu = cnn_forward_prop(im, label)\n",
    "        loss += l1\n",
    "        num_correct += accu\n",
    "        loss_array.append(loss / 100)\n",
    "        accuracy_array.append(num_correct)\n",
    "        data_dict[label] = num_correct\n",
    "        \n",
    "        \n",
    "    print(accuracy_array)\n",
    "    print(data_dict)\n",
    "    print(emotionss[max(data_dict, key=data_dict.get)])\n",
    "    \n",
    "predict(img)"
   ]
  },
  {
   "cell_type": "code",
   "execution_count": 68,
   "metadata": {},
   "outputs": [
    {
     "name": "stdout",
     "output_type": "stream",
     "text": [
      "(48, 48)\n",
      "2304\n",
      "[array([[145, 144, 144, ...,  88,  87,  85],\n",
      "       [145, 145, 144, ...,  89,  87,  85],\n",
      "       [144, 145, 143, ...,  89,  88,  87],\n",
      "       ...,\n",
      "       [120, 120, 120, ...,  97,  97,  96],\n",
      "       [118, 118, 119, ...,  99,  97,  94],\n",
      "       [116, 116, 117, ..., 100,  98,  95]], dtype=uint8), array([[145, 144, 144, ...,  88,  87,  85],\n",
      "       [145, 145, 144, ...,  89,  87,  85],\n",
      "       [144, 145, 143, ...,  89,  88,  87],\n",
      "       ...,\n",
      "       [120, 120, 120, ...,  97,  97,  96],\n",
      "       [118, 118, 119, ...,  99,  97,  94],\n",
      "       [116, 116, 117, ..., 100,  98,  95]], dtype=uint8)]\n",
      "[0, 1]\n",
      "{0: 0, 1: 1}\n",
      "Open\n"
     ]
    },
    {
     "data": {
      "image/png": "[encoded data removed]",
      "text/plain": [
       "<Figure size 432x288 with 1 Axes>"
      ]
     },
     "metadata": {
      "needs_background": "light"
     },
     "output_type": "display_data"
    }
   ],
   "source": [
    "from keras.preprocessing import image\n",
    "import numpy as np\n",
    "img = image.load_img(\"C:/Users/Anu/Downloads/Group_9/dataset/dataset_eye/test/Closed/_3.jpg\",target_size = (48,48),color_mode = \"grayscale\")\n",
    "img = np.array(img)\n",
    "plt.imshow(img)\n",
    "print(img.shape)\n",
    "img = np.expand_dims(img,axis = 0) #makes image shape (1,48,48)\n",
    "img = img.reshape(1,48,48)\n",
    "print(img.size)\n",
    "def predict(x):\n",
    "    new_image = []\n",
    "    loss_array = []\n",
    "    accuracy_array = []\n",
    "    data_dict = {}\n",
    "    emotionss = {0: 'Closed', 1: 'Open'}\n",
    "    for data in emotionss.keys():\n",
    "        new_image.append(x[0])\n",
    "    print(new_image)\n",
    "    for im, label in zip(new_image, emotionss.keys()):\n",
    "        loss = 0\n",
    "        num_correct = 0\n",
    "        _, l1, accu = cnn_forward_prop(im, label)\n",
    "        loss += l1\n",
    "        num_correct += accu\n",
    "        loss_array.append(loss / 100)\n",
    "        accuracy_array.append(num_correct)\n",
    "        data_dict[label] = num_correct\n",
    "        \n",
    "        \n",
    "    print(accuracy_array)\n",
    "    print(data_dict)\n",
    "    print(emotionss[max(data_dict, key=data_dict.get)])\n",
    "    \n",
    "predict(img)"
   ]
  },
  {
   "cell_type": "markdown",
   "metadata": {},
   "source": [
    "# DONE"
   ]
  },
  {
   "cell_type": "code",
   "execution_count": null,
   "metadata": {},
   "outputs": [],
   "source": []
  }
 ],
 "metadata": {
  "kernelspec": {
   "display_name": "Python 3 (ipykernel)",
   "language": "python",
   "name": "python3"
  },
  "language_info": {
   "codemirror_mode": {
    "name": "ipython",
    "version": 3
   },
   "file_extension": ".py",
   "mimetype": "text/x-python",
   "name": "python",
   "nbconvert_exporter": "python",
   "pygments_lexer": "ipython3",
   "version": "3.8.12"
  }
 },
 "nbformat": 4,
 "nbformat_minor": 4
}
